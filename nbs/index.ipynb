{
  "cells": [
    {
      "cell_type": "markdown",
      "metadata": {
        "id": "view-in-github",
        "colab_type": "text"
      },
      "source": [
        "<a href=\"https://colab.research.google.com/github/abecode/nbdev-hello-world/blob/main/nbs/index.ipynb\" target=\"_parent\"><img src=\"https://colab.research.google.com/assets/colab-badge.svg\" alt=\"Open In Colab\"/></a>"
      ]
    },
    {
      "cell_type": "code",
      "execution_count": null,
      "metadata": {
        "id": "wdjRF1quxejI"
      },
      "outputs": [],
      "source": [
        "#| hide\n",
        "from nbdev_hello_world.core import *"
      ]
    },
    {
      "cell_type": "markdown",
      "metadata": {
        "id": "DolL5AvKxejJ"
      },
      "source": [
        "# nbdev-hello-world\n",
        "\n",
        "> https://nbdev.fast.ai/tutorials/tutorial.html"
      ]
    },
    {
      "cell_type": "markdown",
      "metadata": {
        "id": "6Qc3r8x_xejJ"
      },
      "source": [
        "This file will become your README and also the index of your documentation."
      ]
    },
    {
      "cell_type": "markdown",
      "metadata": {
        "id": "JIfVRuYTxejJ"
      },
      "source": [
        "## Developer Guide"
      ]
    },
    {
      "cell_type": "markdown",
      "metadata": {
        "id": "ZRrJa8CzxejK"
      },
      "source": [
        "If you are new to using `nbdev` here are some useful pointers to get you started."
      ]
    },
    {
      "cell_type": "markdown",
      "metadata": {
        "id": "NKXKdY8lxejK"
      },
      "source": [
        "### Install nbdev_hello_world in Development mode"
      ]
    },
    {
      "cell_type": "markdown",
      "metadata": {
        "id": "WdSPjYH5xejK"
      },
      "source": [
        "```sh\n",
        "# make sure nbdev_hello_world package is installed in development mode\n",
        "$ pip install -e .\n",
        "\n",
        "# make changes under nbs/ directory\n",
        "# ...\n",
        "\n",
        "# compile to have changes apply to nbdev_hello_world\n",
        "$ nbdev_prepare\n",
        "```"
      ]
    },
    {
      "cell_type": "markdown",
      "metadata": {
        "id": "5kg9wQc5xejK"
      },
      "source": [
        "## Usage"
      ]
    },
    {
      "cell_type": "markdown",
      "metadata": {
        "id": "dQRonT_xxejK"
      },
      "source": [
        "### Installation"
      ]
    },
    {
      "cell_type": "markdown",
      "metadata": {
        "id": "IF1CzHF0xejK"
      },
      "source": [
        "Install latest from the GitHub [repository][repo]:\n",
        "\n",
        "```sh\n",
        "$ pip install git+https://github.com/abecode/nbdev-hello-world.git\n",
        "```\n",
        "\n",
        "or from [conda][conda]\n",
        "\n",
        "```sh\n",
        "$ conda install -c abecode nbdev_hello_world\n",
        "```\n",
        "\n",
        "or from [pypi][pypi]\n",
        "\n",
        "\n",
        "```sh\n",
        "$ pip install nbdev_hello_world\n",
        "```\n",
        "\n",
        "\n",
        "[repo]: https://github.com/abecode/nbdev-hello-world\n",
        "[docs]: https://abecode.github.io/nbdev-hello-world/\n",
        "[pypi]: https://pypi.org/project/nbdev-hello-world/\n",
        "[conda]: https://anaconda.org/abecode/nbdev-hello-world"
      ]
    },
    {
      "cell_type": "markdown",
      "metadata": {
        "id": "aNgNXV-7xejK"
      },
      "source": [
        "### Documentation"
      ]
    },
    {
      "cell_type": "markdown",
      "metadata": {
        "id": "uptzO7pPxejK"
      },
      "source": [
        "Documentation can be found hosted on this GitHub [repository][repo]'s [pages][docs]. Additionally you can find package manager specific guidelines on [conda][conda] and [pypi][pypi] respectively.\n",
        "\n",
        "[repo]: https://github.com/abecode/nbdev-hello-world\n",
        "[docs]: https://abecode.github.io/nbdev-hello-world/\n",
        "[pypi]: https://pypi.org/project/nbdev-hello-world/\n",
        "[conda]: https://anaconda.org/abecode/nbdev-hello-world"
      ]
    },
    {
      "cell_type": "markdown",
      "metadata": {
        "id": "O6gYJYWqxejK"
      },
      "source": [
        "## How to use"
      ]
    },
    {
      "cell_type": "markdown",
      "metadata": {
        "id": "0GdXEImrxejK"
      },
      "source": [
        "Fill me in please! Don't forget code examples:"
      ]
    },
    {
      "cell_type": "code",
      "execution_count": 1,
      "metadata": {
        "id": "w16guFACxejK",
        "outputId": "a2004f9a-9fd3-4ac8-9ca4-d0d4a4dc0359",
        "colab": {
          "base_uri": "https://localhost:8080/"
        }
      },
      "outputs": [
        {
          "output_type": "execute_result",
          "data": {
            "text/plain": [
              "2"
            ]
          },
          "metadata": {},
          "execution_count": 1
        }
      ],
      "source": [
        "1+1"
      ]
    },
    {
      "cell_type": "code",
      "execution_count": 2,
      "metadata": {
        "id": "KvsMF-hoxejL",
        "outputId": "73582147-06ae-4638-f2c0-e8ea04d86e78",
        "colab": {
          "base_uri": "https://localhost:8080/"
        }
      },
      "outputs": [
        {
          "output_type": "stream",
          "name": "stdout",
          "text": [
            "hello world\n"
          ]
        }
      ],
      "source": [
        "print(\"hello world\")"
      ]
    }
  ],
  "metadata": {
    "kernelspec": {
      "display_name": "Python 3 (ipykernel)",
      "language": "python",
      "name": "python3"
    },
    "language_info": {
      "codemirror_mode": {
        "name": "ipython",
        "version": 3
      },
      "file_extension": ".py",
      "mimetype": "text/x-python",
      "name": "python",
      "nbconvert_exporter": "python",
      "pygments_lexer": "ipython3",
      "version": "3.11.8"
    },
    "colab": {
      "provenance": [],
      "include_colab_link": true
    }
  },
  "nbformat": 4,
  "nbformat_minor": 0
}